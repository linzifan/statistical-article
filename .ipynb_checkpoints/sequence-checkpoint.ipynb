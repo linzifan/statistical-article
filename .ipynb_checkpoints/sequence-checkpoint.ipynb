{
 "metadata": {
  "name": "",
  "signature": "sha256:1466dd1b78abd97e2e938147b67c0445fefd736d88b11c42fdb40d591778895a"
 },
 "nbformat": 3,
 "nbformat_minor": 0,
 "worksheets": [
  {
   "cells": [
    {
     "cell_type": "code",
     "collapsed": false,
     "input": [
      "seq1 = \"THHHHTTTTHHHHTHHHHHHHHTTTHHTTHHHHHTTTTTTHHTHHTHHHT\\\n",
      "TTHTTHHHHTHTTTHTTTHHTTTTHHHHHHTTTHHTTHHHTHHHHHTTTT\\\n",
      "THTTTHHTTHTTHHTTTHHTTTHHTHHTHHTTTTTHHTHHHHHHTHTHTT\\\n",
      "HTHTTHHHTTHHTHTHHHHHHHHTTHTTHHHTHHTTHTTTTTTHHHTHHH\"\n",
      "seq1 = list(seq1)"
     ],
     "language": "python",
     "metadata": {},
     "outputs": [],
     "prompt_number": 5
    },
    {
     "cell_type": "code",
     "collapsed": false,
     "input": [
      "seq2 = \"THTHTTTHTTTTTHTHTTTHTTHHHTHHTHTHTHTTTTHHTTHHTTHHHT\\\n",
      "HHHTTHHHTTTHHHTHHHHTTTHTHTHHHHTHTTTHHHTHHTHTTTHHTH\\\n",
      "HHTHHHHTTHTHHTHHHTTTHTHHHTHHTTTHHHTTTTHHHTHTHHHHTH\\\n",
      "TTHHTTTTHTHTHTTHTHHTTHTTTHTTTTHHHHTHTHHHTTHHHHHTHH\"\n",
      "seq2 = list(seq2)"
     ],
     "language": "python",
     "metadata": {},
     "outputs": [],
     "prompt_number": 6
    },
    {
     "cell_type": "code",
     "collapsed": false,
     "input": [
      "def getlen(seq, char):\n",
      "    res = 0\n",
      "    for i in range(len(seq)):\n",
      "        if seq[i] == char:\n",
      "            res += 1\n",
      "    return res"
     ],
     "language": "python",
     "metadata": {},
     "outputs": [],
     "prompt_number": 7
    },
    {
     "cell_type": "code",
     "collapsed": false,
     "input": [
      "print \"Sequence #1\", \"H:\", getlen(seq1, \"H\"), \"T:\", getlen(seq1, \"T\")"
     ],
     "language": "python",
     "metadata": {},
     "outputs": [
      {
       "output_type": "stream",
       "stream": "stdout",
       "text": [
        "Sequence #1 H: 108 T: 92\n"
       ]
      }
     ],
     "prompt_number": 8
    },
    {
     "cell_type": "code",
     "collapsed": false,
     "input": [
      "print \"Sequence #2\", \"H:\", getlen(seq2, \"H\"), \"T:\", getlen(seq2, \"T\")"
     ],
     "language": "python",
     "metadata": {},
     "outputs": [
      {
       "output_type": "stream",
       "stream": "stdout",
       "text": [
        "Sequence #2 H: 105 T: 95\n"
       ]
      }
     ],
     "prompt_number": 9
    },
    {
     "cell_type": "code",
     "collapsed": false,
     "input": [
      "def getmaxlen(seq, char):\n",
      "    if char == \"T\":\n",
      "        split = \"H\"\n",
      "    if char == \"H\":\n",
      "        split = \"T\"\n",
      "    temp = \"\".join([seq[i] for i in range(len(seq))])\n",
      "    y = [len(item) for item in temp.split(split)]\n",
      "    return max(y)"
     ],
     "language": "python",
     "metadata": {},
     "outputs": [],
     "prompt_number": 10
    },
    {
     "cell_type": "code",
     "collapsed": false,
     "input": [
      "print \"Sequence #1: \", \"H sequence\", getmaxlen(seq1, \"H\"), \",\", \"T sequence\", getmaxlen(seq1, \"T\")"
     ],
     "language": "python",
     "metadata": {},
     "outputs": [
      {
       "output_type": "stream",
       "stream": "stdout",
       "text": [
        "Sequence #1:  H sequence 8 , T sequence 6\n"
       ]
      }
     ],
     "prompt_number": 11
    },
    {
     "cell_type": "code",
     "collapsed": false,
     "input": [
      "print \"Sequence #2: \", \"H sequence\", getmaxlen(seq2, \"H\"), \",\", \"T sequence\", getmaxlen(seq2, \"T\")"
     ],
     "language": "python",
     "metadata": {},
     "outputs": [
      {
       "output_type": "stream",
       "stream": "stdout",
       "text": [
        "Sequence #2:  H sequence 5 , T sequence 5\n"
       ]
      }
     ],
     "prompt_number": 12
    },
    {
     "cell_type": "code",
     "collapsed": false,
     "input": [
      "import random\n",
      "def throwCoin():\n",
      "    return random.choice([\"H\", \"T\"])"
     ],
     "language": "python",
     "metadata": {},
     "outputs": [],
     "prompt_number": 13
    },
    {
     "cell_type": "code",
     "collapsed": false,
     "input": [
      "nTrails = 1000\n",
      "size = 200\n",
      "ncon = []\n",
      "for i in range(nTrails):\n",
      "    seq = [throwCoin() for i in range(size)]\n",
      "    ncon.append(max(getmaxlen(seq, \"H\"), getmaxlen(seq, \"T\")))\n",
      "print \"Mean of maximum length of consecutive heads/tails:\", \\\n",
      "    float(sum(ncon)) / len(ncon)\n",
      "print \"Probability that maximum length of consecutive heads/tails is larger than 5:\", \\\n",
      "    float(sum([item >5 for item in ncon]))/ len(ncon)"
     ],
     "language": "python",
     "metadata": {},
     "outputs": [
      {
       "output_type": "stream",
       "stream": "stdout",
       "text": [
        "Mean of maximum length of consecutive heads/tails: 7.918\n",
        "Probability that maximum length of consecutive heads/tails is larger than 5: 0.968\n"
       ]
      }
     ],
     "prompt_number": 14
    },
    {
     "cell_type": "code",
     "collapsed": false,
     "input": [
      "%save sequence.py 5-14"
     ],
     "language": "python",
     "metadata": {},
     "outputs": [
      {
       "output_type": "stream",
       "stream": "stdout",
       "text": [
        "The following commands were written to file `sequence.py`:\n",
        "seq1 = \"THHHHTTTTHHHHTHHHHHHHHTTTHHTTHHHHHTTTTTTHHTHHTHHHTTTHTTHHHHTHTTTHTTTHHTTTTHHHHHHTTTHHTTHHHTHHHHHTTTTTHTTTHHTTHTTHHTTTHHTTTHHTHHTHHTTTTTHHTHHHHHHTHTHTTHTHTTHHHTTHHTHTHHHHHHHHTTHTTHHHTHHTTHTTTTTTHHHTHHH\"\n",
        "seq1 = list(seq1)\n",
        "seq2 = \"THTHTTTHTTTTTHTHTTTHTTHHHTHHTHTHTHTTTTHHTTHHTTHHHTHHHTTHHHTTTHHHTHHHHTTTHTHTHHHHTHTTTHHHTHHTHTTTHHTHHHTHHHHTTHTHHTHHHTTTHTHHHTHHTTTHHHTTTTHHHTHTHHHHTHTTHHTTTTHTHTHTTHTHHTTHTTTHTTTTHHHHTHTHHHTTHHHHHTHH\"\n",
        "seq2 = list(seq2)\n",
        "def getlen(seq, char):\n",
        "    res = 0\n",
        "    for i in range(len(seq)):\n",
        "        if seq[i] == char:\n",
        "            res += 1\n",
        "    return res\n",
        "print \"Sequence #1\", \"H:\", getlen(seq1, \"H\"), \"T:\", getlen(seq1, \"T\")\n",
        "print \"Sequence #2\", \"H:\", getlen(seq2, \"H\"), \"T:\", getlen(seq2, \"T\")\n",
        "def getmaxlen(seq, char):\n",
        "    if char == \"T\":\n",
        "        split = \"H\"\n",
        "    if char == \"H\":\n",
        "        split = \"T\"\n",
        "    temp = \"\".join([seq[i] for i in range(len(seq))])\n",
        "    y = [len(item) for item in temp.split(split)]\n",
        "    return max(y)\n",
        "print \"Sequence #1: \", \"H sequence\", getmaxlen(seq1, \"H\"), \",\", \"T sequence\", getmaxlen(seq1, \"T\")\n",
        "print \"Sequence #2: \", \"H sequence\", getmaxlen(seq2, \"H\"), \",\", \"T sequence\", getmaxlen(seq2, \"T\")\n",
        "import random\n",
        "def throwCoin():\n",
        "    return random.choice([\"H\", \"T\"])\n",
        "nTrails = 1000\n",
        "size = 200\n",
        "ncon = []\n",
        "for i in range(nTrails):\n",
        "    seq = [throwCoin() for i in range(size)]\n",
        "    ncon.append(max(getmaxlen(seq, \"H\"), getmaxlen(seq, \"T\")))\n",
        "print \"Mean of maximum length of consecutive heads/tails:\",     float(sum(ncon)) / len(ncon)\n",
        "print \"Probability that maximum length of consecutive heads/tails is larger than 5:\",     float(sum([item >5 for item in ncon]))/ len(ncon)\n"
       ]
      }
     ],
     "prompt_number": 15
    },
    {
     "cell_type": "code",
     "collapsed": false,
     "input": [],
     "language": "python",
     "metadata": {},
     "outputs": []
    }
   ],
   "metadata": {}
  }
 ]
}